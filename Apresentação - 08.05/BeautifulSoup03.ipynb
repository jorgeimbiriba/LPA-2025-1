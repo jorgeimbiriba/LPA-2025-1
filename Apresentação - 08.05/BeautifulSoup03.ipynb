{
 "cells": [
  {
   "cell_type": "code",
   "execution_count": 1,
   "id": "3176e3e4-7c9c-4423-91eb-7c6849792fa7",
   "metadata": {},
   "outputs": [],
   "source": [
    "import requests\n",
    "from bs4 import BeautifulSoup\n",
    "from urllib.parse import urljoin\n",
    "from IPython.display import Image, display"
   ]
  },
  {
   "cell_type": "code",
   "execution_count": 3,
   "id": "32d481a1-2872-417d-be2b-7729eb428439",
   "metadata": {},
   "outputs": [],
   "source": [
    "# Acessa e analisa a página\n",
    "pagina = requests.get('https://books.toscrape.com/')\n",
    "dados_pagina = BeautifulSoup(pagina.text, 'html.parser')"
   ]
  },
  {
   "cell_type": "code",
   "execution_count": 5,
   "id": "faeadc55-2654-4a16-8b42-9cc9e0c7aac4",
   "metadata": {},
   "outputs": [],
   "source": [
    "# Encontra os livros\n",
    "livros = dados_pagina.find_all('article', class_='product_pod')"
   ]
  },
  {
   "cell_type": "code",
   "execution_count": 7,
   "id": "84a87ae7-1ca3-495c-9e02-35279348aa01",
   "metadata": {},
   "outputs": [
    {
     "name": "stdout",
     "output_type": "stream",
     "text": [
      "Título: A Light in the Attic\n",
      "Preço: Â£51.77\n"
     ]
    },
    {
     "data": {
      "text/html": [
       "<img src=\"https://books.toscrape.com/media/cache/2c/da/2cdad67c44b002e7ead0cc35693c0e8b.jpg\"/>"
      ],
      "text/plain": [
       "<IPython.core.display.Image object>"
      ]
     },
     "metadata": {},
     "output_type": "display_data"
    },
    {
     "name": "stdout",
     "output_type": "stream",
     "text": [
      "---\n",
      "Título: Tipping the Velvet\n",
      "Preço: Â£53.74\n"
     ]
    },
    {
     "data": {
      "text/html": [
       "<img src=\"https://books.toscrape.com/media/cache/26/0c/260c6ae16bce31c8f8c95daddd9f4a1c.jpg\"/>"
      ],
      "text/plain": [
       "<IPython.core.display.Image object>"
      ]
     },
     "metadata": {},
     "output_type": "display_data"
    },
    {
     "name": "stdout",
     "output_type": "stream",
     "text": [
      "---\n",
      "Título: Soumission\n",
      "Preço: Â£50.10\n"
     ]
    },
    {
     "data": {
      "text/html": [
       "<img src=\"https://books.toscrape.com/media/cache/3e/ef/3eef99c9d9adef34639f510662022830.jpg\"/>"
      ],
      "text/plain": [
       "<IPython.core.display.Image object>"
      ]
     },
     "metadata": {},
     "output_type": "display_data"
    },
    {
     "name": "stdout",
     "output_type": "stream",
     "text": [
      "---\n",
      "Título: Sharp Objects\n",
      "Preço: Â£47.82\n"
     ]
    },
    {
     "data": {
      "text/html": [
       "<img src=\"https://books.toscrape.com/media/cache/32/51/3251cf3a3412f53f339e42cac2134093.jpg\"/>"
      ],
      "text/plain": [
       "<IPython.core.display.Image object>"
      ]
     },
     "metadata": {},
     "output_type": "display_data"
    },
    {
     "name": "stdout",
     "output_type": "stream",
     "text": [
      "---\n",
      "Título: Sapiens: A Brief History of Humankind\n",
      "Preço: Â£54.23\n"
     ]
    },
    {
     "data": {
      "text/html": [
       "<img src=\"https://books.toscrape.com/media/cache/be/a5/bea5697f2534a2f86a3ef27b5a8c12a6.jpg\"/>"
      ],
      "text/plain": [
       "<IPython.core.display.Image object>"
      ]
     },
     "metadata": {},
     "output_type": "display_data"
    },
    {
     "name": "stdout",
     "output_type": "stream",
     "text": [
      "---\n",
      "Título: The Requiem Red\n",
      "Preço: Â£22.65\n"
     ]
    },
    {
     "data": {
      "text/html": [
       "<img src=\"https://books.toscrape.com/media/cache/68/33/68339b4c9bc034267e1da611ab3b34f8.jpg\"/>"
      ],
      "text/plain": [
       "<IPython.core.display.Image object>"
      ]
     },
     "metadata": {},
     "output_type": "display_data"
    },
    {
     "name": "stdout",
     "output_type": "stream",
     "text": [
      "---\n",
      "Título: The Dirty Little Secrets of Getting Your Dream Job\n",
      "Preço: Â£33.34\n"
     ]
    },
    {
     "data": {
      "text/html": [
       "<img src=\"https://books.toscrape.com/media/cache/92/27/92274a95b7c251fea59a2b8a78275ab4.jpg\"/>"
      ],
      "text/plain": [
       "<IPython.core.display.Image object>"
      ]
     },
     "metadata": {},
     "output_type": "display_data"
    },
    {
     "name": "stdout",
     "output_type": "stream",
     "text": [
      "---\n",
      "Título: The Coming Woman: A Novel Based on the Life of the Infamous Feminist, Victoria Woodhull\n",
      "Preço: Â£17.93\n"
     ]
    },
    {
     "data": {
      "text/html": [
       "<img src=\"https://books.toscrape.com/media/cache/3d/54/3d54940e57e662c4dd1f3ff00c78cc64.jpg\"/>"
      ],
      "text/plain": [
       "<IPython.core.display.Image object>"
      ]
     },
     "metadata": {},
     "output_type": "display_data"
    },
    {
     "name": "stdout",
     "output_type": "stream",
     "text": [
      "---\n",
      "Título: The Boys in the Boat: Nine Americans and Their Epic Quest for Gold at the 1936 Berlin Olympics\n",
      "Preço: Â£22.60\n"
     ]
    },
    {
     "data": {
      "text/html": [
       "<img src=\"https://books.toscrape.com/media/cache/66/88/66883b91f6804b2323c8369331cb7dd1.jpg\"/>"
      ],
      "text/plain": [
       "<IPython.core.display.Image object>"
      ]
     },
     "metadata": {},
     "output_type": "display_data"
    },
    {
     "name": "stdout",
     "output_type": "stream",
     "text": [
      "---\n",
      "Título: The Black Maria\n",
      "Preço: Â£52.15\n"
     ]
    },
    {
     "data": {
      "text/html": [
       "<img src=\"https://books.toscrape.com/media/cache/58/46/5846057e28022268153beff6d352b06c.jpg\"/>"
      ],
      "text/plain": [
       "<IPython.core.display.Image object>"
      ]
     },
     "metadata": {},
     "output_type": "display_data"
    },
    {
     "name": "stdout",
     "output_type": "stream",
     "text": [
      "---\n",
      "Título: Starving Hearts (Triangular Trade Trilogy, #1)\n",
      "Preço: Â£13.99\n"
     ]
    },
    {
     "data": {
      "text/html": [
       "<img src=\"https://books.toscrape.com/media/cache/be/f4/bef44da28c98f905a3ebec0b87be8530.jpg\"/>"
      ],
      "text/plain": [
       "<IPython.core.display.Image object>"
      ]
     },
     "metadata": {},
     "output_type": "display_data"
    },
    {
     "name": "stdout",
     "output_type": "stream",
     "text": [
      "---\n",
      "Título: Shakespeare's Sonnets\n",
      "Preço: Â£20.66\n"
     ]
    },
    {
     "data": {
      "text/html": [
       "<img src=\"https://books.toscrape.com/media/cache/10/48/1048f63d3b5061cd2f424d20b3f9b666.jpg\"/>"
      ],
      "text/plain": [
       "<IPython.core.display.Image object>"
      ]
     },
     "metadata": {},
     "output_type": "display_data"
    },
    {
     "name": "stdout",
     "output_type": "stream",
     "text": [
      "---\n",
      "Título: Set Me Free\n",
      "Preço: Â£17.46\n"
     ]
    },
    {
     "data": {
      "text/html": [
       "<img src=\"https://books.toscrape.com/media/cache/5b/88/5b88c52633f53cacf162c15f4f823153.jpg\"/>"
      ],
      "text/plain": [
       "<IPython.core.display.Image object>"
      ]
     },
     "metadata": {},
     "output_type": "display_data"
    },
    {
     "name": "stdout",
     "output_type": "stream",
     "text": [
      "---\n",
      "Título: Scott Pilgrim's Precious Little Life (Scott Pilgrim #1)\n",
      "Preço: Â£52.29\n"
     ]
    },
    {
     "data": {
      "text/html": [
       "<img src=\"https://books.toscrape.com/media/cache/94/b1/94b1b8b244bce9677c2f29ccc890d4d2.jpg\"/>"
      ],
      "text/plain": [
       "<IPython.core.display.Image object>"
      ]
     },
     "metadata": {},
     "output_type": "display_data"
    },
    {
     "name": "stdout",
     "output_type": "stream",
     "text": [
      "---\n",
      "Título: Rip it Up and Start Again\n",
      "Preço: Â£35.02\n"
     ]
    },
    {
     "data": {
      "text/html": [
       "<img src=\"https://books.toscrape.com/media/cache/81/c4/81c4a973364e17d01f217e1188253d5e.jpg\"/>"
      ],
      "text/plain": [
       "<IPython.core.display.Image object>"
      ]
     },
     "metadata": {},
     "output_type": "display_data"
    },
    {
     "name": "stdout",
     "output_type": "stream",
     "text": [
      "---\n",
      "Título: Our Band Could Be Your Life: Scenes from the American Indie Underground, 1981-1991\n",
      "Preço: Â£57.25\n"
     ]
    },
    {
     "data": {
      "text/html": [
       "<img src=\"https://books.toscrape.com/media/cache/54/60/54607fe8945897cdcced0044103b10b6.jpg\"/>"
      ],
      "text/plain": [
       "<IPython.core.display.Image object>"
      ]
     },
     "metadata": {},
     "output_type": "display_data"
    },
    {
     "name": "stdout",
     "output_type": "stream",
     "text": [
      "---\n",
      "Título: Olio\n",
      "Preço: Â£23.88\n"
     ]
    },
    {
     "data": {
      "text/html": [
       "<img src=\"https://books.toscrape.com/media/cache/55/33/553310a7162dfbc2c6d19a84da0df9e1.jpg\"/>"
      ],
      "text/plain": [
       "<IPython.core.display.Image object>"
      ]
     },
     "metadata": {},
     "output_type": "display_data"
    },
    {
     "name": "stdout",
     "output_type": "stream",
     "text": [
      "---\n",
      "Título: Mesaerion: The Best Science Fiction Stories 1800-1849\n",
      "Preço: Â£37.59\n"
     ]
    },
    {
     "data": {
      "text/html": [
       "<img src=\"https://books.toscrape.com/media/cache/09/a3/09a3aef48557576e1a85ba7efea8ecb7.jpg\"/>"
      ],
      "text/plain": [
       "<IPython.core.display.Image object>"
      ]
     },
     "metadata": {},
     "output_type": "display_data"
    },
    {
     "name": "stdout",
     "output_type": "stream",
     "text": [
      "---\n",
      "Título: Libertarianism for Beginners\n",
      "Preço: Â£51.33\n"
     ]
    },
    {
     "data": {
      "text/html": [
       "<img src=\"https://books.toscrape.com/media/cache/0b/bc/0bbcd0a6f4bcd81ccb1049a52736406e.jpg\"/>"
      ],
      "text/plain": [
       "<IPython.core.display.Image object>"
      ]
     },
     "metadata": {},
     "output_type": "display_data"
    },
    {
     "name": "stdout",
     "output_type": "stream",
     "text": [
      "---\n",
      "Título: It's Only the Himalayas\n",
      "Preço: Â£45.17\n"
     ]
    },
    {
     "data": {
      "text/html": [
       "<img src=\"https://books.toscrape.com/media/cache/27/a5/27a53d0bb95bdd88288eaf66c9230d7e.jpg\"/>"
      ],
      "text/plain": [
       "<IPython.core.display.Image object>"
      ]
     },
     "metadata": {},
     "output_type": "display_data"
    },
    {
     "name": "stdout",
     "output_type": "stream",
     "text": [
      "---\n"
     ]
    }
   ],
   "source": [
    "# Para cada livro, extrai título, preço e imagem\n",
    "for livro in livros:\n",
    "    titulo = livro.h3.a['title']\n",
    "    preco = livro.find('p', class_='price_color').text\n",
    "    caminho_img = livro.find('img')['src']\n",
    "    url_img = urljoin('https://books.toscrape.com/', caminho_img)\n",
    "\n",
    "    print(f'Título: {titulo}')\n",
    "    print(f'Preço: {preco}')\n",
    "    display(Image(url=url_img))\n",
    "    print('---')"
   ]
  }
 ],
 "metadata": {
  "kernelspec": {
   "display_name": "Python [conda env:base] *",
   "language": "python",
   "name": "conda-base-py"
  },
  "language_info": {
   "codemirror_mode": {
    "name": "ipython",
    "version": 3
   },
   "file_extension": ".py",
   "mimetype": "text/x-python",
   "name": "python",
   "nbconvert_exporter": "python",
   "pygments_lexer": "ipython3",
   "version": "3.12.7"
  }
 },
 "nbformat": 4,
 "nbformat_minor": 5
}
