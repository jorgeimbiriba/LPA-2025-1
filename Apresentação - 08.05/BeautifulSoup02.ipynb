{
 "cells": [
  {
   "cell_type": "code",
   "execution_count": 1,
   "id": "5ea7533e-95d4-4cc5-b6b7-051b13bd777a",
   "metadata": {},
   "outputs": [],
   "source": [
    "import requests\n",
    "from bs4 import BeautifulSoup"
   ]
  },
  {
   "cell_type": "code",
   "execution_count": 3,
   "id": "49a824ed-a409-4769-9327-8b9b01ae174d",
   "metadata": {},
   "outputs": [],
   "source": [
    "pagina = requests.get('https://books.toscrape.com/')\n",
    "dados_pagina = BeautifulSoup(pagina.text, 'html.parser')"
   ]
  },
  {
   "cell_type": "code",
   "execution_count": 5,
   "id": "32a869aa-0e07-4b14-97fa-5cb4d6bf5582",
   "metadata": {},
   "outputs": [],
   "source": [
    "livros = dados_pagina.find_all('article', class_='product_pod')"
   ]
  },
  {
   "cell_type": "code",
   "execution_count": 7,
   "id": "916797ae-6b12-40c1-8f60-f0e8a8f64bcf",
   "metadata": {},
   "outputs": [
    {
     "name": "stdout",
     "output_type": "stream",
     "text": [
      "Título: A Light in the Attic\n",
      "Preço: Â£51.77\n",
      "---\n",
      "Título: Tipping the Velvet\n",
      "Preço: Â£53.74\n",
      "---\n",
      "Título: Soumission\n",
      "Preço: Â£50.10\n",
      "---\n",
      "Título: Sharp Objects\n",
      "Preço: Â£47.82\n",
      "---\n",
      "Título: Sapiens: A Brief History of Humankind\n",
      "Preço: Â£54.23\n",
      "---\n",
      "Título: The Requiem Red\n",
      "Preço: Â£22.65\n",
      "---\n",
      "Título: The Dirty Little Secrets of Getting Your Dream Job\n",
      "Preço: Â£33.34\n",
      "---\n",
      "Título: The Coming Woman: A Novel Based on the Life of the Infamous Feminist, Victoria Woodhull\n",
      "Preço: Â£17.93\n",
      "---\n",
      "Título: The Boys in the Boat: Nine Americans and Their Epic Quest for Gold at the 1936 Berlin Olympics\n",
      "Preço: Â£22.60\n",
      "---\n",
      "Título: The Black Maria\n",
      "Preço: Â£52.15\n",
      "---\n",
      "Título: Starving Hearts (Triangular Trade Trilogy, #1)\n",
      "Preço: Â£13.99\n",
      "---\n",
      "Título: Shakespeare's Sonnets\n",
      "Preço: Â£20.66\n",
      "---\n",
      "Título: Set Me Free\n",
      "Preço: Â£17.46\n",
      "---\n",
      "Título: Scott Pilgrim's Precious Little Life (Scott Pilgrim #1)\n",
      "Preço: Â£52.29\n",
      "---\n",
      "Título: Rip it Up and Start Again\n",
      "Preço: Â£35.02\n",
      "---\n",
      "Título: Our Band Could Be Your Life: Scenes from the American Indie Underground, 1981-1991\n",
      "Preço: Â£57.25\n",
      "---\n",
      "Título: Olio\n",
      "Preço: Â£23.88\n",
      "---\n",
      "Título: Mesaerion: The Best Science Fiction Stories 1800-1849\n",
      "Preço: Â£37.59\n",
      "---\n",
      "Título: Libertarianism for Beginners\n",
      "Preço: Â£51.33\n",
      "---\n",
      "Título: It's Only the Himalayas\n",
      "Preço: Â£45.17\n",
      "---\n"
     ]
    }
   ],
   "source": [
    "for livro in livros:\n",
    "        # O título está dentro da tag <h3> -> <a title=\"\">\n",
    "        titulo = livro.h3.a['title']\n",
    "\n",
    "        # O preço está em <p class=\"price_color\">\n",
    "        preco = livro.find('p', class_='price_color').text\n",
    "\n",
    "        print(f'Título: {titulo}')\n",
    "        print(f'Preço: {preco}')\n",
    "        print('---')"
   ]
  }
 ],
 "metadata": {
  "kernelspec": {
   "display_name": "Python [conda env:base] *",
   "language": "python",
   "name": "conda-base-py"
  },
  "language_info": {
   "codemirror_mode": {
    "name": "ipython",
    "version": 3
   },
   "file_extension": ".py",
   "mimetype": "text/x-python",
   "name": "python",
   "nbconvert_exporter": "python",
   "pygments_lexer": "ipython3",
   "version": "3.12.7"
  }
 },
 "nbformat": 4,
 "nbformat_minor": 5
}
