{
 "cells": [
  {
   "cell_type": "markdown",
   "id": "e5b59498-391e-465f-8469-ba8f890b752d",
   "metadata": {},
   "source": [
    "Import das Bibliotecas\n",
    "Requests: Faz a Requisição ao Endereço de Internet e extrai seus elementos"
   ]
  },
  {
   "cell_type": "code",
   "execution_count": 4,
   "id": "cae953f2-da4d-4f69-9c02-fc3dcbd3bfb7",
   "metadata": {},
   "outputs": [],
   "source": [
    "import requests\n",
    "from bs4 import BeautifulSoup"
   ]
  },
  {
   "cell_type": "code",
   "execution_count": 6,
   "id": "5dcf4c6b-1e08-4cc2-b710-53be19aa4daf",
   "metadata": {},
   "outputs": [],
   "source": [
    "pagina = requests.get('https://quotes.toscrape.com/')\n",
    "dados_pagina = BeautifulSoup(pagina.text, 'html.parser')"
   ]
  },
  {
   "cell_type": "code",
   "execution_count": null,
   "id": "06f4cee6-ac59-4908-9e9c-97701568e68f",
   "metadata": {},
   "outputs": [],
   "source": [
    "print(dados_pagina.prettify())"
   ]
  },
  {
   "cell_type": "markdown",
   "id": "6ca48958-4fea-49b9-a34e-1373190a234a",
   "metadata": {},
   "source": [
    "Percorre todas as Div's com a Classe Quote"
   ]
  },
  {
   "cell_type": "code",
   "execution_count": null,
   "id": "0d82b593-d1b6-4958-8f66-b307a030bfa2",
   "metadata": {},
   "outputs": [],
   "source": [
    "todas_frases = dados_pagina.find_all('div', class_=\"quote\")\n",
    "\n",
    "for div in todas_frases:\n",
    "    print(div)"
   ]
  },
  {
   "cell_type": "markdown",
   "id": "671f22bd-bbe6-43fd-8109-e1e1baadfea8",
   "metadata": {},
   "source": [
    "Conteúdo dos Textos está definido por um padrão"
   ]
  },
  {
   "cell_type": "code",
   "execution_count": null,
   "id": "afbeae68-1f6a-40e7-bb2b-283af0c2bc9e",
   "metadata": {},
   "outputs": [],
   "source": [
    "for div in todas_frases:\n",
    "    texto = div.find('span', class_=\"text\").text\n",
    "    print(texto)"
   ]
  },
  {
   "cell_type": "markdown",
   "id": "4d7188d2-9d3b-42a6-8ac9-bb3c74ed1877",
   "metadata": {},
   "source": [
    "Variações do Find All e Find"
   ]
  },
  {
   "cell_type": "code",
   "execution_count": null,
   "id": "a095782f-50c9-4882-a873-81078d599af1",
   "metadata": {},
   "outputs": [],
   "source": [
    "todas_frases = dados_pagina.find_all('span', itemprop=\"text\")\n",
    "\n",
    "for div in todas_frases:\n",
    "    print(div.text)"
   ]
  }
 ],
 "metadata": {
  "kernelspec": {
   "display_name": "Python [conda env:base] *",
   "language": "python",
   "name": "conda-base-py"
  },
  "language_info": {
   "codemirror_mode": {
    "name": "ipython",
    "version": 3
   },
   "file_extension": ".py",
   "mimetype": "text/x-python",
   "name": "python",
   "nbconvert_exporter": "python",
   "pygments_lexer": "ipython3",
   "version": "3.12.7"
  }
 },
 "nbformat": 4,
 "nbformat_minor": 5
}
