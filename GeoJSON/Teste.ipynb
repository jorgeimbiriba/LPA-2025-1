{
 "cells": [
  {
   "cell_type": "code",
   "execution_count": 7,
   "id": "8f8174eb-27d7-4290-aed2-04379fb6a5d1",
   "metadata": {},
   "outputs": [
    {
     "name": "stdout",
     "output_type": "stream",
     "text": [
      "GeoJSON criado com sucesso!\n"
     ]
    }
   ],
   "source": [
    "import geojson\n",
    "\n",
    "# Criar um ponto\n",
    "\n",
    "point = geojson.Point((-46.625290, -23.533773)) # longitude,latitude\n",
    "\n",
    "# Criar um Feature com o ponto\n",
    "\n",
    "feature = geojson.Feature(geometry=point, properties={\"nome\": \"São Paulo\"})\n",
    "\n",
    "# Criar uma FeatureCollection (coleção de features)\n",
    "\n",
    "feature_collection = geojson.FeatureCollection([feature])\n",
    "\n",
    "# Salvar em arquivo\n",
    "\n",
    "with open(\"exemplo.geojson\", \"w\") as f:\n",
    "\n",
    "    geojson.dump(feature_collection, f)\n",
    "\n",
    "print(\"GeoJSON criado com sucesso!\")"
   ]
  },
  {
   "cell_type": "code",
   "execution_count": 11,
   "id": "50556182-f390-46cb-8084-b1fd24605838",
   "metadata": {},
   "outputs": [
    {
     "name": "stdout",
     "output_type": "stream",
     "text": [
      "        nome                     geometry\n",
      "0  São Paulo  POINT (-46.62529 -23.53377)\n",
      "0    POINT (-46.62529 -23.53377)\n",
      "Name: geometry, dtype: geometry\n"
     ]
    }
   ],
   "source": [
    "import geopandas as gpd\n",
    "\n",
    "# Ler arquivo GeoJSON\n",
    "\n",
    "gdf = gpd.read_file(\"exemplo.geojson\")\n",
    "\n",
    "print(gdf)\n",
    "\n",
    "print(gdf.geometry)"
   ]
  }
 ],
 "metadata": {
  "kernelspec": {
   "display_name": "Python [conda env:base] *",
   "language": "python",
   "name": "conda-base-py"
  },
  "language_info": {
   "codemirror_mode": {
    "name": "ipython",
    "version": 3
   },
   "file_extension": ".py",
   "mimetype": "text/x-python",
   "name": "python",
   "nbconvert_exporter": "python",
   "pygments_lexer": "ipython3",
   "version": "3.12.7"
  }
 },
 "nbformat": 4,
 "nbformat_minor": 5
}
