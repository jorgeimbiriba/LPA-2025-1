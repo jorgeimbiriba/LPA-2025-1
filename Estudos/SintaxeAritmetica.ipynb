{
 "cells": [
  {
   "cell_type": "markdown",
   "id": "8bc032f8-d6ad-4b45-971f-07942e02b98c",
   "metadata": {},
   "source": [
    "### Utilização de Máscaras {} para alocação de variáveis\n",
    "#### .format é mais prático"
   ]
  },
  {
   "cell_type": "code",
   "execution_count": 2,
   "id": "74cee111-7bc3-4c7c-8288-89ef3dba610f",
   "metadata": {},
   "outputs": [
    {
     "name": "stdin",
     "output_type": "stream",
     "text": [
      "Digite uma valor:  5\n",
      "Digite um segundo valor:  8\n"
     ]
    }
   ],
   "source": [
    "a = int(input('Digite uma valor: '))\n",
    "b = int(input('Digite um segundo valor: ')) \n",
    "s = a + b\n",
    "m = a * b \n",
    "d = a / b\n",
    "e = a ** b\n",
    "di = a // b"
   ]
  },
  {
   "cell_type": "code",
   "execution_count": 8,
   "id": "d23d795a-eeb3-441a-897e-5b8f0874065f",
   "metadata": {},
   "outputs": [
    {
     "name": "stdout",
     "output_type": "stream",
     "text": [
      "Soma entre 5 e 8 = 13\n",
      "Multiplicação entre 5 e 8 = 40\n",
      "Divisão entre 5 e 8 = 0.625\n",
      "Exponenciação = 390625\n"
     ]
    }
   ],
   "source": [
    "print('Soma entre {} e {} = {}'.format(a ,b, s))\n",
    "print('Multiplicação entre {} e {} = {}'.format(a, b, m))\n",
    "print('Divisão entre {} e {} = {}'.format(a, b, d))\n",
    "print('Exponenciação = {}'.format(e))\n",
    "    "
   ]
  },
  {
   "cell_type": "markdown",
   "id": "0e4dbeb7-76df-4c3b-a41e-3fbd750f8924",
   "metadata": {},
   "source": [
    "#### Declaração de Variáveis tem que ser linha por linha"
   ]
  },
  {
   "cell_type": "markdown",
   "id": "65481722-1c16-46f4-b198-141df1691cca",
   "metadata": {},
   "source": [
    "### Ordem de Prioridade em Ações Aritméticas:\n",
    "    1. ()\n",
    "    2. **\n",
    "    3. * / // - Divisão Inteira; % - Resto de Divisão\n",
    "    4. + -"
   ]
  }
 ],
 "metadata": {
  "kernelspec": {
   "display_name": "Python [conda env:base] *",
   "language": "python",
   "name": "conda-base-py"
  },
  "language_info": {
   "codemirror_mode": {
    "name": "ipython",
    "version": 3
   },
   "file_extension": ".py",
   "mimetype": "text/x-python",
   "name": "python",
   "nbconvert_exporter": "python",
   "pygments_lexer": "ipython3",
   "version": "3.12.7"
  }
 },
 "nbformat": 4,
 "nbformat_minor": 5
}
