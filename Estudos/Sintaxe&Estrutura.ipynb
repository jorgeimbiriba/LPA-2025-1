{
 "cells": [
  {
   "cell_type": "code",
   "execution_count": 1,
   "id": "74cee111-7bc3-4c7c-8288-89ef3dba610f",
   "metadata": {},
   "outputs": [
    {
     "name": "stdin",
     "output_type": "stream",
     "text": [
      "Digite uma valor:  5\n",
      "Digite um segundo valor:  4\n"
     ]
    }
   ],
   "source": [
    "a = int(input('Digite uma valor: '))\n",
    "b = int(input('Digite um segundo valor: ')) \n",
    "s = a + b\n",
    "m = a * b \n",
    "d = a / b\n",
    "e = a ** b\n",
    "di = a // b"
   ]
  },
  {
   "cell_type": "markdown",
   "id": "8bc032f8-d6ad-4b45-971f-07942e02b98c",
   "metadata": {},
   "source": [
    "### Utilização de Máscaras { } para alocação de variáveis\n",
    "#### .format é mais prático"
   ]
  },
  {
   "cell_type": "code",
   "execution_count": 3,
   "id": "d23d795a-eeb3-441a-897e-5b8f0874065f",
   "metadata": {},
   "outputs": [
    {
     "name": "stdout",
     "output_type": "stream",
     "text": [
      "Soma entre 5 e 4 = 9\n",
      "Multiplicação entre 5 e 4 = 20\n",
      "Divisão entre 5 e 4 = 1.25\n",
      "Exponenciação = 625\n",
      "True\n"
     ]
    }
   ],
   "source": [
    "print('Soma entre {} e {} = {}'.format(a ,b, s))\n",
    "print('Multiplicação entre {} e {} = {}'.format(a, b, m))\n",
    "print('Divisão entre {} e {} = {}'.format(a, b, d))\n",
    "print('Exponenciação = {}'.format(e))\n",
    "print(a>b)    "
   ]
  },
  {
   "cell_type": "markdown",
   "id": "0e4dbeb7-76df-4c3b-a41e-3fbd750f8924",
   "metadata": {},
   "source": [
    "#### Declaração de Variáveis tem que ser linha por linha"
   ]
  },
  {
   "cell_type": "markdown",
   "id": "65481722-1c16-46f4-b198-141df1691cca",
   "metadata": {},
   "source": [
    "### Ordem de Prioridade em Ações Aritméticas:\n",
    "    1. ()\n",
    "    2. **\n",
    "    3. * / // - Divisão Inteira; % - Resto de Divisão\n",
    "    4. + -"
   ]
  },
  {
   "cell_type": "code",
   "execution_count": 17,
   "id": "8d7fe610-3b3c-42c6-a1cd-90c6430c29cc",
   "metadata": {},
   "outputs": [
    {
     "name": "stdout",
     "output_type": "stream",
     "text": [
      "Gosto de mamão\n",
      "Gosto de pêra\n",
      "Gosto de abacate\n"
     ]
    }
   ],
   "source": [
    "frutas = [\"mamão\", \"pêra\", \"abacate\"]\n",
    "for fruta in frutas:\n",
    "    print(f\"Gosto de {fruta}\")    "
   ]
  },
  {
   "cell_type": "markdown",
   "id": "63b39bbc-de7f-4673-8470-1186030251d6",
   "metadata": {},
   "source": [
    "## Listas"
   ]
  },
  {
   "cell_type": "code",
   "execution_count": 28,
   "id": "0d0c6b6c-1783-4e74-aa65-02a09388bccd",
   "metadata": {},
   "outputs": [
    {
     "name": "stdout",
     "output_type": "stream",
     "text": [
      "['maçã', 'banana', 'laranja', 'uva', 'morango']\n"
     ]
    }
   ],
   "source": [
    "frutas = [\"maçã\", \"banana\", \"laranja\", \"uva\", \"morango\"]\n",
    "print(frutas)"
   ]
  },
  {
   "cell_type": "code",
   "execution_count": 32,
   "id": "532c4816-7034-494d-b3d0-f47c052b78ec",
   "metadata": {},
   "outputs": [
    {
     "name": "stdout",
     "output_type": "stream",
     "text": [
      "cachorro\n",
      "gato\n",
      "pássaro\n",
      "O cachorro está no índice 0\n",
      "O gato está no índice 1\n",
      "O pássaro está no índice 2\n"
     ]
    }
   ],
   "source": [
    "animais = [\"cachorro\", \"gato\", \"pássaro\"]\n",
    "\n",
    "for animal in animais:\n",
    "    print(animal)\n",
    "\n",
    "# Iterando com índice usando enumerate\n",
    "for indice, animal in enumerate(animais):\n",
    "    print(f\"O {animal} está no índice {indice}\")"
   ]
  },
  {
   "cell_type": "code",
   "execution_count": 34,
   "id": "dbb087b1-d865-41d6-829c-8a8073b7c3e6",
   "metadata": {},
   "outputs": [
    {
     "name": "stdout",
     "output_type": "stream",
     "text": [
      "[1, 4, 9, 16, 25]\n",
      "[2, 4, 6]\n"
     ]
    }
   ],
   "source": [
    "# Criar uma lista de quadrados de números\n",
    "quadrados = [x**2 for x in range(1, 6)]\n",
    "print(quadrados) # [1, 4, 9, 16, 25]\n",
    "\n",
    "# Filtrar números pares de uma lista\n",
    "pares = [x for x in [1, 2, 3, 4, 5, 6] if x % 2 == 0]\n",
    "print(pares) # [2, 4, 6]"
   ]
  },
  {
   "cell_type": "markdown",
   "id": "2cd5e992-fd21-41e4-9f8a-8fd793115f85",
   "metadata": {},
   "source": [
    "### Dicionários: entre { } e seguindo a estrutura key : value"
   ]
  },
  {
   "cell_type": "code",
   "execution_count": 21,
   "id": "1f63d81c-a28b-4f99-bb5a-e3f7c770509a",
   "metadata": {},
   "outputs": [
    {
     "name": "stdout",
     "output_type": "stream",
     "text": [
      "{'nome': 'Ana', 'idade': 10, 'cidade': 'Santarém'}\n",
      "Ana\n",
      "Ana\n",
      "dict_keys(['nome', 'idade', 'cidade'])\n",
      "dict_values(['Ana', 10, 'Santarém'])\n",
      "dict_items([('nome', 'Ana'), ('idade', 10), ('cidade', 'Santarém')])\n",
      "nome: Ana\n",
      "idade: 10\n",
      "cidade: Santarém\n"
     ]
    }
   ],
   "source": [
    "# Dicionário Simples\n",
    "pessoa = {\"nome\": \"Ana\", \"idade\": 10, \"cidade\": \"Santarém\"}\n",
    "print(pessoa)\n",
    "\n",
    "# Acesso a valores\n",
    "print(pessoa[\"nome\"])\n",
    "print(pessoa.get(\"nome\"))\n",
    "print(pessoa.keys())\n",
    "print(pessoa.values())\n",
    "print(pessoa.items())\n",
    "\n",
    "for chave, valor in pessoa.items():\n",
    "    print(f\"{chave}: {valor}\")"
   ]
  },
  {
   "cell_type": "markdown",
   "id": "811803b4-cfb3-4da8-819e-02d3699004f3",
   "metadata": {},
   "source": [
    "## Tuplas"
   ]
  },
  {
   "cell_type": "code",
   "execution_count": 5,
   "id": "88f51898-5235-4dd6-b595-bf6d9ce6c40d",
   "metadata": {},
   "outputs": [
    {
     "name": "stdout",
     "output_type": "stream",
     "text": [
      "(1, 2, 3)\n",
      "1\n",
      "(1, 2)\n"
     ]
    }
   ],
   "source": [
    "minha_tupla = (1,2,3)\n",
    "print(minha_tupla)\n",
    "\n",
    "#Acesso a elemento\n",
    "print(minha_tupla[0])\n",
    "print(minha_tupla[0:2])"
   ]
  },
  {
   "cell_type": "markdown",
   "id": "c5f547e5-20c7-4ab0-9804-ab1ab446f639",
   "metadata": {},
   "source": [
    "### Tuplas são imutáveis mas é possível criar uma nova para mudar a original"
   ]
  },
  {
   "cell_type": "code",
   "execution_count": 12,
   "id": "ddbac83a-1f47-4a79-b218-4e6c56e24254",
   "metadata": {},
   "outputs": [
    {
     "name": "stdout",
     "output_type": "stream",
     "text": [
      "(5, 2, 3)\n"
     ]
    }
   ],
   "source": [
    "minha_tupla = (1,2,3)\n",
    "lista_temporaria = list(minha_tupla) # Converte para lista\n",
    "lista_temporaria[0] = 5\n",
    "nova_tupla = tuple(lista_temporaria) # Converte de volta para tupla\n",
    "print(nova_tupla)"
   ]
  },
  {
   "cell_type": "markdown",
   "id": "a8f3a9de-de66-4c56-8bc9-52d079446a37",
   "metadata": {},
   "source": [
    "### Utilização de tuplas em Retornos de funções"
   ]
  },
  {
   "cell_type": "code",
   "execution_count": 15,
   "id": "0e2a0345-5979-473f-a550-43975146e98f",
   "metadata": {},
   "outputs": [
    {
     "name": "stdout",
     "output_type": "stream",
     "text": [
      "Soma: 100, Média: 25.0\n",
      "Soma (desempacotada): 100, Média (desempacotada): 25.0\n"
     ]
    }
   ],
   "source": [
    "def calcular_estatisticas(numeros):\n",
    "    soma = sum(numeros)\n",
    "    media = soma / len(numeros)\n",
    "    return (soma, media) # Retorna uma tupla\n",
    "\n",
    "resultados = calcular_estatisticas([10, 20, 30, 40])\n",
    "print(f\"Soma: {resultados[0]}, Média: {resultados[1]}\")\n",
    "\n",
    "# Desempacotamento de tuplas (muito comum e útil!)\n",
    "soma, media = calcular_estatisticas([10, 20, 30, 40])\n",
    "print(f\"Soma (desempacotada): {soma}, Média (desempacotada): {media}\")"
   ]
  },
  {
   "cell_type": "markdown",
   "id": "1efe87a7-1069-4518-8962-e7bc385f8457",
   "metadata": {},
   "source": [
    "### Funções VS. Procedimentos"
   ]
  },
  {
   "cell_type": "markdown",
   "id": "1e6bff35-8edb-4c13-a3f6-ea76a8789f4b",
   "metadata": {},
   "source": [
    "Uma função que retorna um valor usa a palavra-chave return. Quando o return é executado, a função termina e o valor especificado é enviado de volta para onde a função foi chamada."
   ]
  },
  {
   "cell_type": "code",
   "execution_count": 39,
   "id": "9bb9580e-2dce-4d30-98d3-b9a8ae1f04a3",
   "metadata": {},
   "outputs": [
    {
     "name": "stdout",
     "output_type": "stream",
     "text": [
      "A soma é: 15\n",
      "20\n"
     ]
    }
   ],
   "source": [
    "def somar_numeros(a, b):\n",
    "    \"\"\"\n",
    "    Esta função recebe dois números e retorna a soma deles.\n",
    "    \"\"\"\n",
    "    soma = a + b\n",
    "    return soma\n",
    "\n",
    "# Chamando a função e armazenando o resultado\n",
    "resultado_da_soma = somar_numeros(10, 5)\n",
    "print(f\"A soma é: {resultado_da_soma}\") \n",
    "\n",
    "# Você pode usar o resultado diretamente\n",
    "print(somar_numeros(7, 3) * 2)"
   ]
  },
  {
   "cell_type": "code",
   "execution_count": 41,
   "id": "3c47c14c-1266-4a71-bf7f-a1e207fc50b1",
   "metadata": {},
   "outputs": [
    {
     "name": "stdout",
     "output_type": "stream",
     "text": [
      "Olá, Alice! Bem-vindo(a) ao mundo Python.\n",
      "Olá, Maria! Bem-vindo(a) ao mundo Python.\n",
      "O que a função saudacao retornou? None\n"
     ]
    }
   ],
   "source": [
    "def saudacao(nome):\n",
    "    \"\"\"\n",
    "    Esta função imprime uma saudação para o nome fornecido.\n",
    "    Não retorna nenhum valor explicitamente.\n",
    "    \"\"\"\n",
    "    print(f\"Olá, {nome}! Bem-vindo(a) ao mundo Python.\")\n",
    "\n",
    "# Chamando a \"procedimento-função\"\n",
    "saudacao(\"Alice\")\n",
    "\n",
    "retorno_da_funcao = saudacao(\"Maria\")\n",
    "print(f\"O que a função saudacao retornou? {retorno_da_funcao}\")"
   ]
  },
  {
   "cell_type": "markdown",
   "id": "f4b0bb64-ae6b-429a-a3a9-4afe81083497",
   "metadata": {},
   "source": [
    "## Orientação à Objetos"
   ]
  },
  {
   "cell_type": "code",
   "execution_count": 44,
   "id": "26ff9041-7ce6-44e2-b05d-045e7b705fbc",
   "metadata": {},
   "outputs": [
    {
     "name": "stdout",
     "output_type": "stream",
     "text": [
      "A marca do meu carro é: Toyota\n",
      "A cor do outro carro é: Preto\n",
      "O Toyota Corolla ligou.\n",
      "Marca: Toyota, Modelo: Corolla, Ano: 2022, Cor: Prata, Ligado: True\n",
      "O Honda Civic ligou.\n",
      "O Toyota Corolla desligou.\n",
      "O Toyota Corolla já está desligado.\n"
     ]
    }
   ],
   "source": [
    "# 1. Definindo uma Classe\n",
    "class Carro:\n",
    "    # O método __init__ é o construtor. Ele é chamado automaticamente\n",
    "    # quando um novo objeto Carro é criado.\n",
    "    # 'self' se refere à própria instância do objeto que está sendo criada.\n",
    "    def __init__(self, marca, modelo, ano, cor):\n",
    "        self.marca = marca   \n",
    "        self.modelo = modelo    \n",
    "        self.ano = ano         \n",
    "        self.cor = cor          \n",
    "        self.ligado = False     \n",
    "\n",
    "    # 2. Definindo Métodos\n",
    "    def ligar(self):\n",
    "        if not self.ligado:\n",
    "            self.ligado = True\n",
    "            print(f\"O {self.marca} {self.modelo} ligou.\")\n",
    "        else:\n",
    "            print(f\"O {self.marca} {self.modelo} já está ligado.\")\n",
    "\n",
    "    def desligar(self):\n",
    "        if self.ligado:\n",
    "            self.ligado = False\n",
    "            print(f\"O {self.marca} {self.modelo} desligou.\")\n",
    "        else:\n",
    "            print(f\"O {self.marca} {self.modelo} já está desligado.\")\n",
    "\n",
    "    def exibir_informacoes(self):\n",
    "        print(f\"Marca: {self.marca}, Modelo: {self.modelo}, Ano: {self.ano}, Cor: {self.cor}, Ligado: {self.ligado}\")\n",
    "\n",
    "# 3. Criando Objetos (Instâncias da Classe)\n",
    "meu_carro = Carro(\"Toyota\", \"Corolla\", 2022, \"Prata\")\n",
    "outro_carro = Carro(\"Honda\", \"Civic\", 2023, \"Preto\")\n",
    "\n",
    "# 4. Acessando Atributos\n",
    "print(f\"A marca do meu carro é: {meu_carro.marca}\") \n",
    "print(f\"A cor do outro carro é: {outro_carro.cor}\") \n",
    "\n",
    "# 5. Chamando Métodos\n",
    "meu_carro.ligar()        \n",
    "meu_carro.exibir_informacoes() \n",
    "\n",
    "outro_carro.ligar()      \n",
    "meu_carro.desligar()     \n",
    "meu_carro.desligar()     "
   ]
  },
  {
   "cell_type": "code",
   "execution_count": 46,
   "id": "917f5f50-ed53-4b0b-adfa-8d19d6cf9fbb",
   "metadata": {},
   "outputs": [
    {
     "name": "stdout",
     "output_type": "stream",
     "text": [
      "Marca: Yamaha, Modelo: MT-07\n",
      "A Yamaha MT-07 está empinando!\n"
     ]
    }
   ],
   "source": [
    "class Veiculo: # Classe Pai\n",
    "    def __init__(self, marca, modelo):\n",
    "        self.marca = marca\n",
    "        self.modelo = modelo\n",
    "\n",
    "    def exibir_detalhes(self):\n",
    "        print(f\"Marca: {self.marca}, Modelo: {self.modelo}\")\n",
    "\n",
    "class Moto(Veiculo): # Classe Filha que herda de Veiculo\n",
    "    def __init__(self, marca, modelo, cilindradas):\n",
    "        super().__init__(marca, modelo) # Chama o construtor da classe pai\n",
    "        self.cilindradas = cilindradas\n",
    "\n",
    "    def empinar(self):\n",
    "        print(f\"A {self.marca} {self.modelo} está empinando!\")\n",
    "\n",
    "minha_moto = Moto(\"Yamaha\", \"MT-07\", 689)\n",
    "minha_moto.exibir_detalhes() # Método herdado\n",
    "minha_moto.empinar()         # Método específico da classe Moto"
   ]
  },
  {
   "cell_type": "code",
   "execution_count": null,
   "id": "5800f51e-6759-4408-915f-28767420d0d7",
   "metadata": {},
   "outputs": [],
   "source": []
  }
 ],
 "metadata": {
  "kernelspec": {
   "display_name": "Python [conda env:base] *",
   "language": "python",
   "name": "conda-base-py"
  },
  "language_info": {
   "codemirror_mode": {
    "name": "ipython",
    "version": 3
   },
   "file_extension": ".py",
   "mimetype": "text/x-python",
   "name": "python",
   "nbconvert_exporter": "python",
   "pygments_lexer": "ipython3",
   "version": "3.12.7"
  }
 },
 "nbformat": 4,
 "nbformat_minor": 5
}
