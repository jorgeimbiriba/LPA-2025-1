{
 "cells": [
  {
   "cell_type": "markdown",
   "id": "28082788-c9a3-4869-bdf4-53ea17287294",
   "metadata": {},
   "source": [
    "#### Escreva programa que receba duas listas de inteiros e retorne uma nova lista com todos os elementos das duas listas, sem repetições, ordenados em ordem crescente."
   ]
  },
  {
   "cell_type": "code",
   "execution_count": 18,
   "id": "34829bd2-a6db-41ca-b6ae-0f2fb40aa488",
   "metadata": {},
   "outputs": [
    {
     "name": "stdout",
     "output_type": "stream",
     "text": [
      "[5, 11, 12, 15, 18, 19, 20]\n"
     ]
    }
   ],
   "source": [
    "def unir_e_ordenar_listas(lista1,lista2):\n",
    "    # Converte as listas em um conjunto e remove repetições\n",
    "    conjunto_unido = set(lista1 + lista2)\n",
    "\n",
    "    # Converte em lista de novo e ordena\n",
    "    lista_final = sorted(list(conjunto_unido))\n",
    "\n",
    "    return lista_final\n",
    "\n",
    "lista_a = [15,12,19]\n",
    "lista_b = [11,18,20,5]\n",
    "\n",
    "resultado = unir_e_ordenar_listas(lista_a, lista_b)\n",
    "print(resultado)\n",
    "    "
   ]
  },
  {
   "cell_type": "markdown",
   "id": "c6adc717-c8ef-4f1e-9112-2b5061af8409",
   "metadata": {},
   "source": [
    "##### Crie um programa que inverta os elementos de cada tupla dentro de uma tupla de tuplas."
   ]
  },
  {
   "cell_type": "code",
   "execution_count": 14,
   "id": "85fa3290-3171-4b56-8342-2143269edb38",
   "metadata": {},
   "outputs": [
    {
     "name": "stdout",
     "output_type": "stream",
     "text": [
      "((4, 5), (-2, -1, 0))\n"
     ]
    }
   ],
   "source": [
    "def inverter_elementos_de_tuplas(tupla_de_tuplas):\n",
    "    lista_de_tuplas_invertidas = []\n",
    "    for tupla in tupla_de_tuplas:\n",
    "        lista_temporaria = list(tupla)\n",
    "        lista_temporaria.reverse()\n",
    "\n",
    "        tupla_invertida = tuple(lista_temporaria)\n",
    "        lista_de_tuplas_invertidas.append(tupla_invertida)\n",
    "        \n",
    "    return tuple(lista_de_tuplas_invertidas)\n",
    "\n",
    "minha_tupla = ((5, 4), (0, -1, -2))\n",
    "resultado_invertido = inverter_elementos_de_tuplas(minha_tupla)\n",
    "print(resultado_invertido)"
   ]
  },
  {
   "cell_type": "markdown",
   "id": "71dcd414-cf15-4210-95fc-40b3dfcf0214",
   "metadata": {},
   "source": [
    "##### Dada uma lista de palavras, retorne um dicionário onde as chaves são as palavras e os valores são a quantidade de vezes que aparecem na lista."
   ]
  },
  {
   "cell_type": "code",
   "execution_count": 43,
   "id": "998d7e29-f11e-4fbc-b89b-a976de4cf4e3",
   "metadata": {},
   "outputs": [
    {
     "name": "stdout",
     "output_type": "stream",
     "text": [
      "Frequência das palavras: {'banana': 3, 'maçã': 2, 'laranja': 2, 'uva': 1}\n"
     ]
    }
   ],
   "source": [
    "def retorna_dicionario(lista_de_palavras):\n",
    "    frequencia_de_palavras = {}\n",
    "    for palavra in lista_de_palavras:\n",
    "        palavra_formatada = palavra.lower() # ao deixar todas minúsculas, garante que todas serão contadas\n",
    "        \n",
    "        frequencia_de_palavras[palavra_formatada] = frequencia_de_palavras.get(palavra_formatada, 0) + 1\n",
    "        \n",
    "    return frequencia_de_palavras\n",
    "\n",
    "minha_lista_de_palavras = [\"banana\", \"maçã\", \"laranja\", \"banana\", \"uva\", \"Maçã\", \"banana\", \"laranja\"]\n",
    "resultado = retorna_dicionario(minha_lista_de_palavras)\n",
    "print(f\"Frequência das palavras: {resultado}\")"
   ]
  },
  {
   "cell_type": "markdown",
   "id": "53d4a0fc-2e42-489d-9cef-c4b010bf65b8",
   "metadata": {},
   "source": [
    "#### Combine dois dicionários, somando os valores das chaves que existem em ambos. \n",
    "#### Exemplo: Entrada: {&quot;a&quot;: 10, &quot;b&quot;: 20}, {&quot;b&quot;: 30, &quot;c&quot;: 40} Saída: {&quot;a&quot;: 10, &quot;b&quot;: 50, &quot;c&quot;: 40}"
   ]
  },
  {
   "cell_type": "code",
   "execution_count": 46,
   "id": "5ddebea8-5696-4e62-a894-37bbe058fba6",
   "metadata": {},
   "outputs": [
    {
     "name": "stdout",
     "output_type": "stream",
     "text": [
      "Saída: {'a': 10, 'b': 50, 'c': 40}\n"
     ]
    }
   ],
   "source": [
    "def combinar_dicionarios(dicionario1, dicionario2):\n",
    "    dicionario_combinado = {}\n",
    "    for chave, valor in dicionario1.items():\n",
    "      dicionario_combinado[chave] = valor\n",
    "\n",
    "    for chave, valor in dicionario2.items():\n",
    "        # Se a chave já existe no dicionário combinado (ou seja, também estava no dicionario1)\n",
    "        if chave in dicionario_combinado:\n",
    "           dicionario_combinado[chave] += valor  # Soma os valores\n",
    "    else:\n",
    "           dicionario_combinado[chave] = valor  # Adiciona a chave e o valor do dicionario2 (novo elemento)\n",
    "\n",
    "    return dicionario_combinado\n",
    "\n",
    "# Exemplo de uso:\n",
    "dic1 = {\"a\": 10, \"b\": 20}\n",
    "dic2 = {\"b\": 30, \"c\": 40}\n",
    "resultado = combinar_dicionarios(dic1, dic2)\n",
    "print(f\"Saída: {resultado}\")"
   ]
  },
  {
   "cell_type": "markdown",
   "id": "de2ee3e4-946f-4f4b-8020-976f8239c445",
   "metadata": {},
   "source": [
    "#### Dada uma matriz (lista de listas), retorne sua transposta sem usar bibliotecas externas."
   ]
  },
  {
   "cell_type": "code",
   "execution_count": 20,
   "id": "e3dea1cb-56c5-4416-9673-dcf673be4f6c",
   "metadata": {},
   "outputs": [
    {
     "name": "stdout",
     "output_type": "stream",
     "text": [
      "Matriz Original: [[1, 2, 3], [4, 5, 6]]\n",
      "Matriz Transposta: [[1, 4], [2, 5], [3, 6]]\n"
     ]
    }
   ],
   "source": [
    "def transpor_matriz(matriz):\n",
    "    num_linhas = len(matriz)\n",
    "    num_colunas = len(matriz[0]) # Assume que todas as linhas têm o mesmo número de colunas\n",
    "\n",
    "    matriz_transposta = []\n",
    "    for _ in range(num_colunas):\n",
    "        matriz_transposta.append([]) # Adiciona uma nova lista (coluna da transposta)\n",
    "        \n",
    "    # Preenche a matriz transposta\n",
    "    for i in range(num_linhas):\n",
    "      for j in range(num_colunas):\n",
    "          matriz_transposta[j].append(matriz[i][j])\n",
    "    \n",
    "    return matriz_transposta\n",
    "    \n",
    "matriz_original1 = [[1, 2, 3], [4, 5, 6]]\n",
    "transposta1 = transpor_matriz(matriz_original1)\n",
    "print(f\"Matriz Original: {matriz_original1}\")\n",
    "print(f\"Matriz Transposta: {transposta1}\")"
   ]
  },
  {
   "cell_type": "markdown",
   "id": "7158b20f-205c-4e60-b9ac-fb8fda572461",
   "metadata": {},
   "source": [
    "#### Inverter um Dicionário com Tratamento de Valores Duplicados"
   ]
  },
  {
   "cell_type": "code",
   "execution_count": 28,
   "id": "5201a885-7cd1-4cb5-b555-0e794162d24b",
   "metadata": {},
   "outputs": [
    {
     "name": "stdout",
     "output_type": "stream",
     "text": [
      "Entrada: {'a': 1, 'b': 2, 'c': 1}\n",
      "Saída: {1: ['c'], 2: ['b']}\n",
      "------------------------------\n",
      "Entrada: {'fruta': 'maçã', 'cor': 'vermelho', 'doce': 'maçã', 'vegetal': 'cenoura'}\n",
      "Saída: {'maçã': ['doce'], 'vermelho': ['cor'], 'cenoura': ['vegetal']}\n"
     ]
    }
   ],
   "source": [
    "def inverter_dicionario(dicionario_original):\n",
    "    dicionario_invertido = {}\n",
    "    for chave_original, valor_original in dicionario_original.items():\n",
    "        if valor_original not in dicionario_original.items():\n",
    "            # Se o valor ainda não é uma chave, adiciona-o com a chave original em uma lista\n",
    "            dicionario_invertido[valor_original] = [chave_original]\n",
    "        else:\n",
    "            # Se o valor já é uma chave, adiciona a nova chave original à lista existente\n",
    "            dicionario_invertido[valor_original].append(chave_original)\n",
    "            \n",
    "    return dicionario_invertido        \n",
    "\n",
    "dic_entrada1 = {\"a\": 1, \"b\": 2, \"c\": 1}\n",
    "saida1 = inverter_dicionario(dic_entrada1)\n",
    "print(f\"Entrada: {dic_entrada1}\")\n",
    "print(f\"Saída: {saida1}\")\n",
    "\n",
    "print(\"-\" * 30)\n",
    "\n",
    "dic_entrada2 = {\"fruta\": \"maçã\", \"cor\": \"vermelho\", \"doce\": \"maçã\", \"vegetal\": \"cenoura\"}\n",
    "saida2 = inverter_dicionario(dic_entrada2)\n",
    "print(f\"Entrada: {dic_entrada2}\")\n",
    "print(f\"Saída: {saida2}\")"
   ]
  },
  {
   "cell_type": "markdown",
   "id": "b9940453-16b7-4558-aeff-77cb700dfeb1",
   "metadata": {},
   "source": [
    "#### Converta uma lista de tuplas (chave, valor) em um dicionário. Se houver chaves duplicadas, mantenha o último valor."
   ]
  },
  {
   "cell_type": "code",
   "execution_count": 31,
   "id": "60431022-ce92-4314-a9b9-01e0b1fabb10",
   "metadata": {},
   "outputs": [
    {
     "name": "stdout",
     "output_type": "stream",
     "text": [
      "Entrada: [('a', 10), ('b', 20), ('a', 30)]\n",
      "Saída: {'a': 30, 'b': 20}\n"
     ]
    }
   ],
   "source": [
    "def converter_lista_tuplas_para_dicionario(lista_de_tuplas):\n",
    "  dicionario_resultado = {}\n",
    "  for chave, valor in lista_de_tuplas:\n",
    "    # Ao atribuir diretamente, o último valor para uma chave duplicada sobrescreve os anteriores\n",
    "    dicionario_resultado[chave] = valor\n",
    "  return dicionario_resultado\n",
    "\n",
    "# Exemplo de uso:\n",
    "entrada_tuplas1 = [(\"a\", 10), (\"b\", 20), (\"a\", 30)]\n",
    "saida_dic1 = converter_lista_tuplas_para_dicionario(entrada_tuplas1)\n",
    "print(f\"Entrada: {entrada_tuplas1}\")\n",
    "print(f\"Saída: {saida_dic1}\")"
   ]
  }
 ],
 "metadata": {
  "kernelspec": {
   "display_name": "Python [conda env:base] *",
   "language": "python",
   "name": "conda-base-py"
  },
  "language_info": {
   "codemirror_mode": {
    "name": "ipython",
    "version": 3
   },
   "file_extension": ".py",
   "mimetype": "text/x-python",
   "name": "python",
   "nbconvert_exporter": "python",
   "pygments_lexer": "ipython3",
   "version": "3.12.7"
  }
 },
 "nbformat": 4,
 "nbformat_minor": 5
}
